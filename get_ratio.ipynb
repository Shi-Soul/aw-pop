{
 "cells": [
  {
   "cell_type": "code",
   "execution_count": 1,
   "metadata": {},
   "outputs": [
    {
     "name": "stdout",
     "output_type": "stream",
     "text": [
      "C:\\Users\\test\\AppData\\Local\\activitywatch\\activitywatch\\aw-server\\settings.json\n"
     ]
    }
   ],
   "source": [
    "categorization_path = r\"%USERPROFILE%\\AppData\\Local\\activitywatch\\activitywatch\\aw-server\\settings.json\"\n",
    "# instantiate the path\n",
    "import os\n",
    "categorization_path = categorization_path.replace('%USERPROFILE%', os.environ['USERPROFILE'])\n",
    "print(categorization_path)"
   ]
  },
  {
   "cell_type": "code",
   "execution_count": 2,
   "metadata": {},
   "outputs": [
    {
     "name": "stdout",
     "output_type": "stream",
     "text": [
      "[{'data': {'color': '#7FDFFF', 'score': 10}, 'id': 0, 'name': ['Work'], 'rule': {'type': 'none'}}, {'data': {'color': '#AFDFFF'}, 'id': 1, 'name': ['Work', 'Programming'], 'rule': {'ignore_case': True, 'regex': 'csdn|ipynb|python|powershell|terminal|vscode|cursor|GitHub|Stack Overflow|BitBucket|Gitlab|vim|Spyder|kate|Ghidra|Scite', 'type': 'regex'}}, {'data': {'color': '#8FBFFF'}, 'id': 2, 'name': ['Work', 'PaperWork'], 'rule': {'type': 'none'}}, {'data': {'color': '#009CE0'}, 'id': 3, 'name': ['Work', 'Research'], 'rule': {'ignore_case': True, 'regex': 'research|scholar|review|arxiv|zotero|overleaf|latex|paper|科研|论文|研究|NIPS|ICML|ICRA|AAMAS|CVPR|Conference', 'type': 'regex'}}, {'data': {'color': '#AFEFA0'}, 'id': 4, 'name': ['Explore'], 'rule': {'type': 'none'}}, {'data': {'color': '#8FEF80'}, 'id': 5, 'name': ['Explore', 'IM'], 'rule': {'regex': 'TIM|QQ|Gmail|Thunderbird|mutt|alpine|outlook|qq.com|微信|weixin|wechat|qq|tim|Messenger|Telegram|Signal|WhatsApp|Rambox|Slack|Riot|Element|Discord|Nheko|NeoChat|Mattermost', 'type': 'regex', 'ignore_case': True}}, {'data': {'color': '#FF8F9F'}, 'id': 7, 'name': ['Garbage'], 'rule': {'type': 'regex', 'regex': '.*'}}, {'data': {'color': '#BFEF90'}, 'id': 8, 'name': ['Explore', 'PC'], 'rule': {'ignore_case': True, 'regex': '注册表|regedit|Taskmgr|Program Manager', 'type': 'regex'}}, {'name': ['Work', 'Tools'], 'rule': {'type': 'regex', 'regex': 'todo|Notion|ActivityWatch|百度翻译|翻译|obsidian|clash', 'ignore_case': True}, 'id': 9, 'data': {'color': '#68CCCA'}}, {'name': ['Work', 'Programming', 'AI'], 'rule': {'type': 'regex', 'regex': 'hugging face|claude|llama|gym|chatgpt|AI|ML|robot|DL|RL|LLM|Robotics|Pytorch|Tensorflow|gpu|cuda|Tensorboard|Weights & Biases', 'ignore_case': True}, 'id': 10, 'data': {'color': '#B2BFEF'}}, {'name': ['Explore', 'News'], 'rule': {'type': 'regex', 'regex': 'inoreader| X.com |twitter|RSS|youtube', 'ignore_case': True}, 'id': 11, 'data': {'color': '#E0EC60'}}, {'name': ['Work', 'PaperWork', 'SJTU'], 'rule': {'type': 'regex', 'regex': 'SJTU|上海交通大学|夏令营|硕士|本科|毕业', 'ignore_case': True}, 'id': 12, 'data': {}}, {'name': ['Work', 'PaperWork', '福光'], 'rule': {'type': 'regex', 'regex': '福光', 'ignore_case': True}, 'id': 13, 'data': {}}, {'name': ['Work', 'PaperWork', 'Office'], 'rule': {'type': 'regex', 'regex': 'PPT|Word|Excel|powerpoint|powerpnt|WPS|office|pdf', 'ignore_case': True}, 'id': 15, 'data': {}}, {'name': ['Work', 'PaperWork', 'Courses'], 'rule': {'type': 'regex', 'regex': '英语|物理', 'ignore_case': True}, 'id': 16, 'data': {}}, {'name': ['Work', 'Programming', 'SD'], 'rule': {'type': 'regex', 'regex': 'type script|java script|docker|localhost|API', 'ignore_case': True}, 'id': 17, 'data': {'color': '#B2B0E0'}}]\n",
      "[{'data': {'color': '#7FDFFF', 'score': 10}, 'id': 0, 'name': ['Work'], 'rule': {'type': 'none'}}, {'data': {'color': '#AFDFFF'}, 'id': 1, 'name': ['Work', 'Programming'], 'rule': {'ignore_case': True, 'regex': 'csdn|ipynb|python|powershell|terminal|vscode|cursor|GitHub|Stack Overflow|BitBucket|Gitlab|vim|Spyder|kate|Ghidra|Scite', 'type': 'regex'}}, {'data': {'color': '#8FBFFF'}, 'id': 2, 'name': ['Work', 'PaperWork'], 'rule': {'type': 'none'}}, {'data': {'color': '#009CE0'}, 'id': 3, 'name': ['Work', 'Research'], 'rule': {'ignore_case': True, 'regex': 'research|scholar|review|arxiv|zotero|overleaf|latex|paper|科研|论文|研究|NIPS|ICML|ICRA|AAMAS|CVPR|Conference', 'type': 'regex'}}, {'data': {'color': '#AFEFA0'}, 'id': 4, 'name': ['Explore'], 'rule': {'type': 'none'}}]\n",
      "[(['Work'], {'type': 'none'}), (['Work', 'Programming'], {'ignore_case': True, 'regex': 'csdn|ipynb|python|powershell|terminal|vscode|cursor|GitHub|Stack Overflow|BitBucket|Gitlab|vim|Spyder|kate|Ghidra|Scite', 'type': 'regex'}), (['Work', 'PaperWork'], {'type': 'none'}), (['Work', 'Research'], {'ignore_case': True, 'regex': 'research|scholar|review|arxiv|zotero|overleaf|latex|paper|科研|论文|研究|NIPS|ICML|ICRA|AAMAS|CVPR|Conference', 'type': 'regex'}), (['Explore'], {'type': 'none'})]\n"
     ]
    }
   ],
   "source": [
    "import json\n",
    "\n",
    "with open(categorization_path, 'r') as file:\n",
    "    classes = json.load(file)['classes']\n",
    "\n",
    "print(classes)\n",
    "classes = classes[:5]\n",
    "print(classes)\n",
    "\n",
    "# Extract a list of (name:List[str], rule:Dict)\n",
    "# \n",
    "        # {\n",
    "        #     \"data\": {\n",
    "        #         \"color\": \"#BFEF90\"\n",
    "        #     },\n",
    "        #     \"id\": 8,\n",
    "        #     \"name\": [\n",
    "        #         \"Explore\",\n",
    "        #         \"PC\"\n",
    "        #     ],\n",
    "        #     \"rule\": {\n",
    "        #         \"ignore_case\": true,\n",
    "        #         \"regex\": \"\\u6ce8\\u518c\\u8868|regedit|Taskmgr|Program Manager\",\n",
    "        #         \"type\": \"regex\"\n",
    "        #     }\n",
    "        # },\n",
    "        \n",
    "\n",
    "classes = list(map(lambda x: (x[\"name\"], x[\"rule\"]), classes))\n",
    "print(classes)"
   ]
  },
  {
   "cell_type": "code",
   "execution_count": 3,
   "metadata": {},
   "outputs": [
    {
     "name": "stdout",
     "output_type": "stream",
     "text": [
      "2024-09-29 04:00:00+08:00\n"
     ]
    }
   ],
   "source": [
    "import aw_client \n",
    "from aw_client import queries\n",
    "import socket\n",
    "from datetime import datetime, time, timedelta\n",
    "td1d = timedelta(days=1)\n",
    "day_offset = timedelta(hours=4)\n",
    "\n",
    "hostname = socket.gethostname()\n",
    "now = datetime.now().astimezone()\n",
    "today = (datetime.combine(now.date(), time()) + day_offset).astimezone()\n",
    "print(today)\n",
    "\n",
    "timeperiods = [(today - i * td1d, today - (i - 1) * td1d) for i in range(1)]\n",
    "timeperiods.reverse()\n",
    "\n",
    "\n",
    "aw = aw_client.ActivityWatchClient()\n",
    "\n",
    "canonicalQuery = queries.canonicalEvents(\n",
    "    queries.DesktopQueryParams(\n",
    "        bid_window=f\"aw-watcher-window_{hostname}\",\n",
    "        bid_afk=f\"aw-watcher-afk_{hostname}\",\n",
    "        classes=classes,\n",
    "    )\n",
    ")\n",
    "\n",
    "query = f\"\"\"\n",
    "{canonicalQuery}\n",
    "duration = sum_durations(events);\n",
    "RETURN = {{\"events\": events, \"duration\": duration}};\n",
    "\"\"\"\n",
    "\n",
    "\n",
    "res = aw.query(query, timeperiods)\n"
   ]
  },
  {
   "cell_type": "code",
   "execution_count": 4,
   "metadata": {},
   "outputs": [
    {
     "name": "stdout",
     "output_type": "stream",
     "text": [
      "{\"['Uncategorized']\": 7581.233000000004, \"['Work', 'Research']\": 700.321, \"['Work', 'Programming']\": 10403.224000000011}\n"
     ]
    }
   ],
   "source": [
    "\n",
    "\n",
    "from toolz.curried import reduceby\n",
    "from aw_core import Event\n",
    "from aw_transform import flood\n",
    "from typing import List\n",
    "\n",
    "\n",
    "smallevent = (res[0]['events'])\n",
    "smallevent = flood(map(lambda x: Event(**x),smallevent), 0) ##type:ignore\n",
    "\n",
    "cats= reduceby(lambda x: x['data']['$category'].__repr__(), \n",
    "            lambda acc,x: acc+x['duration'].total_seconds(), \n",
    "            smallevent,\n",
    "            0\n",
    "            )\n",
    "\n",
    "print(cats)\n"
   ]
  },
  {
   "cell_type": "code",
   "execution_count": 5,
   "metadata": {},
   "outputs": [
    {
     "name": "stdout",
     "output_type": "stream",
     "text": [
      "18684.778\n",
      "dict_values([7581.233000000004, 700.321, 10403.224000000011])\n",
      "{\"['Uncategorized']\": 0.40574380921196945, \"['Work', 'Research']\": 0.03748083065263072, \"['Work', 'Programming']\": 0.5567753601354007}\n"
     ]
    }
   ],
   "source": [
    "\n",
    "dur = res[0]['duration']\n",
    "print(res[0]['duration'])\n",
    "print(cats.values())\n",
    "# print(sum(map(lambda x: x.total_seconds(),cats.values())))\n",
    "\n",
    "catratio = {k:v/dur for k,v in cats.items()}\n",
    "print(catratio)"
   ]
  },
  {
   "cell_type": "code",
   "execution_count": 6,
   "metadata": {},
   "outputs": [
    {
     "name": "stdout",
     "output_type": "stream",
     "text": [
      "0.5942561907880315\n",
      "{'Uncategorized': {'__root__': 0.40574380921196945}, 'Work': {'Research': {'__root__': 0.03748083065263072}, 'Programming': {'__root__': 0.5567753601354007}}}\n"
     ]
    }
   ],
   "source": [
    "from treetype import TreeType\n",
    "    \n",
    "tree = TreeType.tree_expand(catratio)\n",
    "print((tree['Work']).sum())\n",
    "print(tree)"
   ]
  },
  {
   "cell_type": "code",
   "execution_count": 15,
   "metadata": {},
   "outputs": [
    {
     "name": "stdout",
     "output_type": "stream",
     "text": [
      "0.5942561907880315\n",
      "False\n"
     ]
    }
   ],
   "source": [
    "cons =[\n",
    "        {\n",
    "            \"term\": [\"Work\"],\n",
    "            \"op\": \"ge\",\n",
    "            \"value\": 0.5\n",
    "        },\n",
    "        {\n",
    "            \"term\": [\"Work\"],\n",
    "            \"op\": \"ge\",\n",
    "            \"value\": 0.6\n",
    "        }\n",
    "    ]\n",
    "# from functools import reduce\n",
    "from toolz.curried import curry\n",
    "from fn import F\n",
    "from toolz.curried import reduce,juxt\n",
    "import operator\n",
    "\n",
    "get_term = (F()\n",
    "            << TreeType.sum\n",
    "            << reduce(lambda acc,y:acc[y])\n",
    "            )\n",
    "\n",
    "print(get_term(['Work'],tree))\n",
    "\n",
    "# res = ops(get_term())\n",
    "def check_a_constraint(constraint,tree):\n",
    "    return getattr(operator,constraint['op']) (tree.get_term(constraint['term']).sum(),constraint['value'])\n",
    "    \n",
    "\n",
    "print(all(juxt(map(curry(check_a_constraint),cons))(tree)))\n"
   ]
  }
 ],
 "metadata": {
  "kernelspec": {
   "display_name": "py3.10",
   "language": "python",
   "name": "python3"
  },
  "language_info": {
   "codemirror_mode": {
    "name": "ipython",
    "version": 3
   },
   "file_extension": ".py",
   "mimetype": "text/x-python",
   "name": "python",
   "nbconvert_exporter": "python",
   "pygments_lexer": "ipython3",
   "version": "3.10.14"
  }
 },
 "nbformat": 4,
 "nbformat_minor": 2
}
